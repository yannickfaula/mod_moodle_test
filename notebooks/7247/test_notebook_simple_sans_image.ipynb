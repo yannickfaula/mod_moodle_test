{
 "cells": [
  {
   "cell_type": "markdown",
   "id": "6b270744",
   "metadata": {},
   "source": [
    "# Un notebook simple avec uniquement du markdown ..."
   ]
  },
  {
   "cell_type": "markdown",
   "id": "f8e785c1",
   "metadata": {},
   "source": [
    "1. Une superbe liste\n",
    "2. une superbe liste 2\n",
    "\n",
    "---\n",
    "\n",
    "Lorem ipsum dolor sit amet, consectetur adipiscing elit. Aliquam scelerisque magna tortor, nec elementum erat maximus a. Lorem ipsum dolor sit amet, consectetur adipiscing elit. Praesent fermentum posuere orci vitae molestie. Integer quis diam libero. Etiam ultrices justo ut sollicitudin maximus. Suspendisse ut mattis lorem, vel laoreet est. Aenean placerat scelerisque turpis non rhoncus. Nulla finibus rutrum euismod. Cras cursus velit non est porta interdum. Integer vel aliquam mi. Suspendisse commodo luctus neque fermentum sagittis. Vivamus purus justo, condimentum in justo nec, rutrum interdum enim. Aliquam pharetra quis risus id congue. Fusce condimentum suscipit felis. Nullam diam dolor, vehicula in eros non, consectetur euismod felis. \n",
    "\n",
    "\n",
    "Lorem ipsum dolor sit amet, consectetur adipiscing elit. Aliquam scelerisque magna tortor, nec elementum erat maximus a. Lorem ipsum dolor sit amet, consectetur adipiscing elit. Praesent fermentum posuere orci vitae molestie. Integer quis diam libero. Etiam ultrices justo ut sollicitudin maximus. Suspendisse ut mattis lorem, vel laoreet est. Aenean placerat scelerisque turpis non rhoncus. Nulla finibus rutrum euismod. Cras cursus velit non est porta interdum. Integer vel aliquam mi. Suspendisse commodo luctus neque fermentum sagittis. Vivamus purus justo, condimentum in justo nec, rutrum interdum enim. Aliquam pharetra quis risus id congue. Fusce condimentum suscipit felis. Nullam diam dolor, vehicula in eros non, consectetur euismod felis. \n",
    "\n",
    "\n",
    "\n"
   ]
  },
  {
   "cell_type": "markdown",
   "id": "e06dac43",
   "metadata": {},
   "source": [
    "###  et un peu de code bien sur"
   ]
  },
  {
   "cell_type": "code",
   "execution_count": null,
   "id": "1872445d",
   "metadata": {},
   "outputs": [],
   "source": [
    "print(\"Hello INSA !!\")"
   ]
  },
  {
   "cell_type": "code",
   "execution_count": null,
   "id": "c7fd4a93",
   "metadata": {},
   "outputs": [],
   "source": [
    "x = 42"
   ]
  },
  {
   "cell_type": "code",
   "execution_count": null,
   "id": "76b0d524",
   "metadata": {},
   "outputs": [],
   "source": [
    "if x == 42:\n",
    "    print(\"la réponse qu'il fallait trouver !!\")\n",
    "else:\n",
    "    print(\"je ne comprends pas...\")"
   ]
  },
  {
   "cell_type": "code",
   "execution_count": null,
   "id": "5da6de28",
   "metadata": {},
   "outputs": [],
   "source": [
    "print(f\"{x:*^20}\")"
   ]
  }
 ],
 "metadata": {
  "kernelspec": {
   "display_name": "Python 3 (ipykernel)",
   "language": "python",
   "name": "python3"
  },
  "language_info": {
   "codemirror_mode": {
    "name": "ipython",
    "version": 3
   },
   "file_extension": ".py",
   "mimetype": "text/x-python",
   "name": "python",
   "nbconvert_exporter": "python",
   "pygments_lexer": "ipython3",
   "version": "3.10.9"
  }
 },
 "nbformat": 4,
 "nbformat_minor": 5
}
